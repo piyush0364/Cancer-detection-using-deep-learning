{
 "cells": [
  {
   "cell_type": "code",
   "execution_count": 1,
   "id": "d332ee14",
   "metadata": {
    "execution": {
     "iopub.execute_input": "2022-11-24T09:22:04.751463Z",
     "iopub.status.busy": "2022-11-24T09:22:04.750581Z",
     "iopub.status.idle": "2022-11-24T09:22:09.998014Z",
     "shell.execute_reply": "2022-11-24T09:22:09.997050Z"
    },
    "papermill": {
     "duration": 5.256767,
     "end_time": "2022-11-24T09:22:10.000588",
     "exception": false,
     "start_time": "2022-11-24T09:22:04.743821",
     "status": "completed"
    },
    "tags": []
   },
   "outputs": [],
   "source": [
    "import os\n",
    "import keras\n",
    "from keras.models import Sequential\n",
    "from keras.layers import Conv2D,MaxPooling2D , Flatten ,Dense, Dropout , BatchNormalization\n",
    "from PIL import Image \n",
    "import numpy as np\n",
    "import pandas as pd\n",
    "import matplotlib.pyplot as plt\n",
    "plt.style.use('dark_background')\n",
    "from sklearn.model_selection import train_test_split\n",
    "from sklearn.preprocessing import OneHotEncoder"
   ]
  },
  {
   "cell_type": "markdown",
   "id": "77afaf89",
   "metadata": {
    "papermill": {
     "duration": 0.005185,
     "end_time": "2022-11-24T09:22:10.013321",
     "exception": false,
     "start_time": "2022-11-24T09:22:10.008136",
     "status": "completed"
    },
    "tags": []
   },
   "source": [
    "# ONE HOT ENCODING THE TARGET CLASSES\n"
   ]
  },
  {
   "cell_type": "markdown",
   "id": "395223b2",
   "metadata": {
    "papermill": {
     "duration": 0.004059,
     "end_time": "2022-11-24T09:22:10.021838",
     "exception": false,
     "start_time": "2022-11-24T09:22:10.017779",
     "status": "completed"
    },
    "tags": []
   },
   "source": []
  },
  {
   "cell_type": "code",
   "execution_count": 2,
   "id": "5cc5d30d",
   "metadata": {
    "execution": {
     "iopub.execute_input": "2022-11-24T09:22:10.032103Z",
     "iopub.status.busy": "2022-11-24T09:22:10.031500Z",
     "iopub.status.idle": "2022-11-24T09:22:10.043607Z",
     "shell.execute_reply": "2022-11-24T09:22:10.042653Z"
    },
    "papermill": {
     "duration": 0.01949,
     "end_time": "2022-11-24T09:22:10.045570",
     "exception": false,
     "start_time": "2022-11-24T09:22:10.026080",
     "status": "completed"
    },
    "tags": []
   },
   "outputs": [
    {
     "data": {
      "text/plain": [
       "OneHotEncoder()"
      ]
     },
     "execution_count": 2,
     "metadata": {},
     "output_type": "execute_result"
    }
   ],
   "source": [
    "encoder = OneHotEncoder()\n",
    "encoder.fit([[0], [1]])\n",
    "\n",
    "# 0 - Tumor\n",
    "# 1 - normal"
   ]
  },
  {
   "cell_type": "markdown",
   "id": "bed478a3",
   "metadata": {
    "papermill": {
     "duration": 0.004313,
     "end_time": "2022-11-24T09:22:10.054131",
     "exception": false,
     "start_time": "2022-11-24T09:22:10.049818",
     "status": "completed"
    },
    "tags": []
   },
   "source": [
    "# Creating 3 Important Lists --\n",
    "1.data list for storing image data in numpy array form \n",
    "\n",
    "2.paths list for storing paths for all images \n",
    "\n",
    "3.result list for storing one hot encoded form of target class whether normal or tumor"
   ]
  },
  {
   "cell_type": "code",
   "execution_count": 3,
   "id": "7d839b81",
   "metadata": {
    "execution": {
     "iopub.execute_input": "2022-11-24T09:22:10.063587Z",
     "iopub.status.busy": "2022-11-24T09:22:10.063314Z",
     "iopub.status.idle": "2022-11-24T09:22:11.054432Z",
     "shell.execute_reply": "2022-11-24T09:22:11.053309Z"
    },
    "papermill": {
     "duration": 0.998934,
     "end_time": "2022-11-24T09:22:11.057257",
     "exception": false,
     "start_time": "2022-11-24T09:22:10.058323",
     "status": "completed"
    },
    "tags": []
   },
   "outputs": [],
   "source": [
    "#This cell updates result list for images with tumor\n",
    "data = []\n",
    "paths = []\n",
    "result = []\n",
    "\n",
    "for r,d,f in os.walk(r'../input/brain-mri-images-for-brain-tumor-detection/yes'):\n",
    "     for file in f:\n",
    "            if '.jpg' in file:\n",
    "                paths.append(os.path.join(r, file))\n",
    "                \n",
    "for path in paths:\n",
    "    img = Image.open(path)\n",
    "    img = img.resize((128,128))\n",
    "    img = np.array(img)\n",
    "    if(img.shape == (128,128,3)):\n",
    "        data.append(np.array(img))\n",
    "        result.append(encoder.transform([[0]]).toarray())\n",
    "    "
   ]
  },
  {
   "cell_type": "code",
   "execution_count": 4,
   "id": "ad17b374",
   "metadata": {
    "execution": {
     "iopub.execute_input": "2022-11-24T09:22:11.070436Z",
     "iopub.status.busy": "2022-11-24T09:22:11.068457Z",
     "iopub.status.idle": "2022-11-24T09:22:11.788308Z",
     "shell.execute_reply": "2022-11-24T09:22:11.787126Z"
    },
    "papermill": {
     "duration": 0.728402,
     "end_time": "2022-11-24T09:22:11.790729",
     "exception": false,
     "start_time": "2022-11-24T09:22:11.062327",
     "status": "completed"
    },
    "tags": []
   },
   "outputs": [],
   "source": [
    "#This cell updates result list for images without tumor\n",
    "paths = []\n",
    "for r,d,f in os.walk(r\"../input/brain-mri-images-for-brain-tumor-detection/no\"):\n",
    "    for file in f:\n",
    "        if '.jpg' in file:\n",
    "            paths.append(os.path.join(r,file))\n",
    "            \n",
    "    for path in paths:\n",
    "        img = Image.open(path)\n",
    "        img = img.resize((128,128))\n",
    "        img = np.array(img)\n",
    "        if(img.shape == (128,128,3)):\n",
    "            data.append(np.array(img))\n",
    "            result.append(encoder.transform([[1]]).toarray())"
   ]
  },
  {
   "cell_type": "code",
   "execution_count": 5,
   "id": "c974bac7",
   "metadata": {
    "execution": {
     "iopub.execute_input": "2022-11-24T09:22:11.801855Z",
     "iopub.status.busy": "2022-11-24T09:22:11.800382Z",
     "iopub.status.idle": "2022-11-24T09:22:11.811322Z",
     "shell.execute_reply": "2022-11-24T09:22:11.810296Z"
    },
    "papermill": {
     "duration": 0.018333,
     "end_time": "2022-11-24T09:22:11.813484",
     "exception": false,
     "start_time": "2022-11-24T09:22:11.795151",
     "status": "completed"
    },
    "tags": []
   },
   "outputs": [
    {
     "data": {
      "text/plain": [
       "(139, 128, 128, 3)"
      ]
     },
     "execution_count": 5,
     "metadata": {},
     "output_type": "execute_result"
    }
   ],
   "source": [
    "data = np.array(data)\n",
    "data.shape"
   ]
  },
  {
   "cell_type": "code",
   "execution_count": 6,
   "id": "cae58dc5",
   "metadata": {
    "execution": {
     "iopub.execute_input": "2022-11-24T09:22:11.823519Z",
     "iopub.status.busy": "2022-11-24T09:22:11.823249Z",
     "iopub.status.idle": "2022-11-24T09:22:11.829350Z",
     "shell.execute_reply": "2022-11-24T09:22:11.828527Z"
    },
    "papermill": {
     "duration": 0.013258,
     "end_time": "2022-11-24T09:22:11.831271",
     "exception": false,
     "start_time": "2022-11-24T09:22:11.818013",
     "status": "completed"
    },
    "tags": []
   },
   "outputs": [],
   "source": [
    "result = np.array(result)\n",
    "result = result.reshape(139,2)"
   ]
  },
  {
   "cell_type": "markdown",
   "id": "f88187a9",
   "metadata": {
    "papermill": {
     "duration": 0.004075,
     "end_time": "2022-11-24T09:22:11.839732",
     "exception": false,
     "start_time": "2022-11-24T09:22:11.835657",
     "status": "completed"
    },
    "tags": []
   },
   "source": [
    "#  Splitting the data into Training and Testing"
   ]
  },
  {
   "cell_type": "code",
   "execution_count": 7,
   "id": "a3955091",
   "metadata": {
    "execution": {
     "iopub.execute_input": "2022-11-24T09:22:11.849426Z",
     "iopub.status.busy": "2022-11-24T09:22:11.848888Z",
     "iopub.status.idle": "2022-11-24T09:22:11.857004Z",
     "shell.execute_reply": "2022-11-24T09:22:11.856128Z"
    },
    "papermill": {
     "duration": 0.01542,
     "end_time": "2022-11-24T09:22:11.859294",
     "exception": false,
     "start_time": "2022-11-24T09:22:11.843874",
     "status": "completed"
    },
    "tags": []
   },
   "outputs": [],
   "source": [
    "x_train,x_test,y_train,y_test = train_test_split(data, result, test_size =0.2, shuffle = True, random_state = 0)"
   ]
  },
  {
   "cell_type": "markdown",
   "id": "9e7e1832",
   "metadata": {
    "papermill": {
     "duration": 0.004193,
     "end_time": "2022-11-24T09:22:11.867633",
     "exception": false,
     "start_time": "2022-11-24T09:22:11.863440",
     "status": "completed"
    },
    "tags": []
   },
   "source": [
    "# Model Building \n",
    "Batch normalization is a technique for training very deep neural networks that standardizes the inputs to a layer for each mini-batch. This has the effect of stabilizing the learning process and dramatically reducing the number of training epoches required to train deep networks."
   ]
  },
  {
   "cell_type": "code",
   "execution_count": 8,
   "id": "8c43114d",
   "metadata": {
    "execution": {
     "iopub.execute_input": "2022-11-24T09:22:11.877200Z",
     "iopub.status.busy": "2022-11-24T09:22:11.876909Z",
     "iopub.status.idle": "2022-11-24T09:22:14.469014Z",
     "shell.execute_reply": "2022-11-24T09:22:14.467657Z"
    },
    "papermill": {
     "duration": 2.599533,
     "end_time": "2022-11-24T09:22:14.471433",
     "exception": false,
     "start_time": "2022-11-24T09:22:11.871900",
     "status": "completed"
    },
    "tags": []
   },
   "outputs": [
    {
     "name": "stderr",
     "output_type": "stream",
     "text": [
      "2022-11-24 09:22:11.953231: I tensorflow/stream_executor/cuda/cuda_gpu_executor.cc:937] successful NUMA node read from SysFS had negative value (-1), but there must be at least one NUMA node, so returning NUMA node zero\n",
      "2022-11-24 09:22:12.038470: I tensorflow/stream_executor/cuda/cuda_gpu_executor.cc:937] successful NUMA node read from SysFS had negative value (-1), but there must be at least one NUMA node, so returning NUMA node zero\n",
      "2022-11-24 09:22:12.039316: I tensorflow/stream_executor/cuda/cuda_gpu_executor.cc:937] successful NUMA node read from SysFS had negative value (-1), but there must be at least one NUMA node, so returning NUMA node zero\n",
      "2022-11-24 09:22:12.041375: I tensorflow/core/platform/cpu_feature_guard.cc:142] This TensorFlow binary is optimized with oneAPI Deep Neural Network Library (oneDNN) to use the following CPU instructions in performance-critical operations:  AVX2 AVX512F FMA\n",
      "To enable them in other operations, rebuild TensorFlow with the appropriate compiler flags.\n",
      "2022-11-24 09:22:12.047042: I tensorflow/stream_executor/cuda/cuda_gpu_executor.cc:937] successful NUMA node read from SysFS had negative value (-1), but there must be at least one NUMA node, so returning NUMA node zero\n",
      "2022-11-24 09:22:12.047743: I tensorflow/stream_executor/cuda/cuda_gpu_executor.cc:937] successful NUMA node read from SysFS had negative value (-1), but there must be at least one NUMA node, so returning NUMA node zero\n",
      "2022-11-24 09:22:12.048460: I tensorflow/stream_executor/cuda/cuda_gpu_executor.cc:937] successful NUMA node read from SysFS had negative value (-1), but there must be at least one NUMA node, so returning NUMA node zero\n",
      "2022-11-24 09:22:13.984039: I tensorflow/stream_executor/cuda/cuda_gpu_executor.cc:937] successful NUMA node read from SysFS had negative value (-1), but there must be at least one NUMA node, so returning NUMA node zero\n",
      "2022-11-24 09:22:13.984800: I tensorflow/stream_executor/cuda/cuda_gpu_executor.cc:937] successful NUMA node read from SysFS had negative value (-1), but there must be at least one NUMA node, so returning NUMA node zero\n",
      "2022-11-24 09:22:13.985493: I tensorflow/stream_executor/cuda/cuda_gpu_executor.cc:937] successful NUMA node read from SysFS had negative value (-1), but there must be at least one NUMA node, so returning NUMA node zero\n",
      "2022-11-24 09:22:13.986097: I tensorflow/core/common_runtime/gpu/gpu_device.cc:1510] Created device /job:localhost/replica:0/task:0/device:GPU:0 with 15401 MB memory:  -> device: 0, name: Tesla P100-PCIE-16GB, pci bus id: 0000:00:04.0, compute capability: 6.0\n"
     ]
    },
    {
     "name": "stdout",
     "output_type": "stream",
     "text": [
      "Model: \"sequential\"\n",
      "_________________________________________________________________\n",
      "Layer (type)                 Output Shape              Param #   \n",
      "=================================================================\n",
      "conv2d (Conv2D)              (None, 128, 128, 32)      416       \n",
      "_________________________________________________________________\n",
      "conv2d_1 (Conv2D)            (None, 128, 128, 32)      4128      \n",
      "_________________________________________________________________\n",
      "batch_normalization (BatchNo (None, 128, 128, 32)      128       \n",
      "_________________________________________________________________\n",
      "max_pooling2d (MaxPooling2D) (None, 64, 64, 32)        0         \n",
      "_________________________________________________________________\n",
      "dropout (Dropout)            (None, 64, 64, 32)        0         \n",
      "_________________________________________________________________\n",
      "conv2d_2 (Conv2D)            (None, 64, 64, 64)        8256      \n",
      "_________________________________________________________________\n",
      "conv2d_3 (Conv2D)            (None, 64, 64, 64)        16448     \n",
      "_________________________________________________________________\n",
      "batch_normalization_1 (Batch (None, 64, 64, 64)        256       \n",
      "_________________________________________________________________\n",
      "max_pooling2d_1 (MaxPooling2 (None, 32, 32, 64)        0         \n",
      "_________________________________________________________________\n",
      "dropout_1 (Dropout)          (None, 32, 32, 64)        0         \n",
      "_________________________________________________________________\n",
      "flatten (Flatten)            (None, 65536)             0         \n",
      "_________________________________________________________________\n",
      "dense (Dense)                (None, 512)               33554944  \n",
      "_________________________________________________________________\n",
      "dropout_2 (Dropout)          (None, 512)               0         \n",
      "_________________________________________________________________\n",
      "dense_1 (Dense)              (None, 2)                 1026      \n",
      "=================================================================\n",
      "Total params: 33,585,602\n",
      "Trainable params: 33,585,410\n",
      "Non-trainable params: 192\n",
      "_________________________________________________________________\n",
      "None\n"
     ]
    }
   ],
   "source": [
    "model = Sequential()\n",
    "\n",
    "model.add(Conv2D(32, kernel_size=(2,2), input_shape=(128,128,3), padding = 'same'))\n",
    "model.add(Conv2D(32, kernel_size=(2,2), activation ='relu', padding = 'same'))\n",
    "\n",
    "model.add(BatchNormalization())\n",
    "model.add(MaxPooling2D(pool_size=(2,2)))\n",
    "model.add(Dropout(0.25))\n",
    "\n",
    "model.add(Conv2D(64, kernel_size = (2,2), activation = 'relu', padding = 'same'))\n",
    "model.add(Conv2D(64, kernel_size = (2,2), activation = 'relu', padding = 'same'))\n",
    "\n",
    "model.add(BatchNormalization())\n",
    "model.add(MaxPooling2D(pool_size=(2,2), strides = (2,2)))\n",
    "model.add(Dropout(0.25))\n",
    "\n",
    "model.add(Flatten())\n",
    "\n",
    "model.add(Dense(512, activation='relu'))\n",
    "model.add(Dropout(0.5))\n",
    "model.add(Dense(2, activation='softmax'))\n",
    "\n",
    "model.compile(loss = \"categorical_crossentropy\", optimizer='Adamax')\n",
    "print(model.summary())\n"
   ]
  },
  {
   "cell_type": "code",
   "execution_count": 9,
   "id": "6dbd6143",
   "metadata": {
    "execution": {
     "iopub.execute_input": "2022-11-24T09:22:14.482361Z",
     "iopub.status.busy": "2022-11-24T09:22:14.481461Z",
     "iopub.status.idle": "2022-11-24T09:22:14.489277Z",
     "shell.execute_reply": "2022-11-24T09:22:14.488421Z"
    },
    "papermill": {
     "duration": 0.015215,
     "end_time": "2022-11-24T09:22:14.491256",
     "exception": false,
     "start_time": "2022-11-24T09:22:14.476041",
     "status": "completed"
    },
    "tags": []
   },
   "outputs": [
    {
     "data": {
      "text/plain": [
       "(111, 2)"
      ]
     },
     "execution_count": 9,
     "metadata": {},
     "output_type": "execute_result"
    }
   ],
   "source": [
    "y_train.shape"
   ]
  },
  {
   "cell_type": "code",
   "execution_count": 10,
   "id": "db220907",
   "metadata": {
    "execution": {
     "iopub.execute_input": "2022-11-24T09:22:14.502456Z",
     "iopub.status.busy": "2022-11-24T09:22:14.501835Z",
     "iopub.status.idle": "2022-11-24T09:22:25.949952Z",
     "shell.execute_reply": "2022-11-24T09:22:25.949023Z"
    },
    "papermill": {
     "duration": 11.4564,
     "end_time": "2022-11-24T09:22:25.952081",
     "exception": false,
     "start_time": "2022-11-24T09:22:14.495681",
     "status": "completed"
    },
    "tags": []
   },
   "outputs": [
    {
     "name": "stdout",
     "output_type": "stream",
     "text": [
      "Epoch 1/30\n"
     ]
    },
    {
     "name": "stderr",
     "output_type": "stream",
     "text": [
      "2022-11-24 09:22:14.574194: I tensorflow/compiler/mlir/mlir_graph_optimization_pass.cc:185] None of the MLIR Optimization Passes are enabled (registered 2)\n",
      "2022-11-24 09:22:15.920760: I tensorflow/stream_executor/cuda/cuda_dnn.cc:369] Loaded cuDNN version 8005\n"
     ]
    },
    {
     "name": "stdout",
     "output_type": "stream",
     "text": [
      "3/3 [==============================] - 8s 289ms/step - loss: 19.8218 - val_loss: 213.5079\n",
      "Epoch 2/30\n",
      "3/3 [==============================] - 0s 43ms/step - loss: 21.2329 - val_loss: 40.4320\n",
      "Epoch 3/30\n",
      "3/3 [==============================] - 0s 43ms/step - loss: 11.4193 - val_loss: 5.0176\n",
      "Epoch 4/30\n",
      "3/3 [==============================] - 0s 43ms/step - loss: 2.5031 - val_loss: 27.2233\n",
      "Epoch 5/30\n",
      "3/3 [==============================] - 0s 43ms/step - loss: 5.4642 - val_loss: 28.6786\n",
      "Epoch 6/30\n",
      "3/3 [==============================] - 0s 49ms/step - loss: 4.0855 - val_loss: 15.4189\n",
      "Epoch 7/30\n",
      "3/3 [==============================] - 0s 43ms/step - loss: 0.7822 - val_loss: 6.3519\n",
      "Epoch 8/30\n",
      "3/3 [==============================] - 0s 43ms/step - loss: 1.0977 - val_loss: 2.8574\n",
      "Epoch 9/30\n",
      "3/3 [==============================] - 0s 42ms/step - loss: 1.8256 - val_loss: 4.1628\n",
      "Epoch 10/30\n",
      "3/3 [==============================] - 0s 42ms/step - loss: 1.2098 - val_loss: 9.4412\n",
      "Epoch 11/30\n",
      "3/3 [==============================] - 0s 42ms/step - loss: 0.0686 - val_loss: 15.3513\n",
      "Epoch 12/30\n",
      "3/3 [==============================] - 0s 42ms/step - loss: 0.2232 - val_loss: 19.2963\n",
      "Epoch 13/30\n",
      "3/3 [==============================] - 0s 42ms/step - loss: 0.4854 - val_loss: 18.9908\n",
      "Epoch 14/30\n",
      "3/3 [==============================] - 0s 44ms/step - loss: 0.4316 - val_loss: 15.7960\n",
      "Epoch 15/30\n",
      "3/3 [==============================] - 0s 43ms/step - loss: 0.1728 - val_loss: 12.2188\n",
      "Epoch 16/30\n",
      "3/3 [==============================] - 0s 45ms/step - loss: 0.0364 - val_loss: 9.7277\n",
      "Epoch 17/30\n",
      "3/3 [==============================] - 0s 42ms/step - loss: 0.0560 - val_loss: 7.7521\n",
      "Epoch 18/30\n",
      "3/3 [==============================] - 0s 42ms/step - loss: 0.0052 - val_loss: 6.3005\n",
      "Epoch 19/30\n",
      "3/3 [==============================] - 0s 42ms/step - loss: 0.1737 - val_loss: 5.5325\n",
      "Epoch 20/30\n",
      "3/3 [==============================] - 0s 42ms/step - loss: 0.0210 - val_loss: 5.6285\n",
      "Epoch 21/30\n",
      "3/3 [==============================] - 0s 42ms/step - loss: 0.1088 - val_loss: 5.6622\n",
      "Epoch 22/30\n",
      "3/3 [==============================] - 0s 42ms/step - loss: 0.1172 - val_loss: 6.0203\n",
      "Epoch 23/30\n",
      "3/3 [==============================] - 0s 43ms/step - loss: 0.0015 - val_loss: 6.1836\n",
      "Epoch 24/30\n",
      "3/3 [==============================] - 0s 43ms/step - loss: 0.0071 - val_loss: 6.2577\n",
      "Epoch 25/30\n",
      "3/3 [==============================] - 0s 42ms/step - loss: 0.0369 - val_loss: 6.2118\n",
      "Epoch 26/30\n",
      "3/3 [==============================] - 0s 42ms/step - loss: 4.6715e-05 - val_loss: 6.1144\n",
      "Epoch 27/30\n",
      "3/3 [==============================] - 0s 42ms/step - loss: 0.2808 - val_loss: 5.1330\n",
      "Epoch 28/30\n",
      "3/3 [==============================] - 0s 41ms/step - loss: 2.0003e-05 - val_loss: 4.4534\n",
      "Epoch 29/30\n",
      "3/3 [==============================] - 0s 42ms/step - loss: 0.0071 - val_loss: 4.0151\n",
      "Epoch 30/30\n",
      "3/3 [==============================] - 0s 42ms/step - loss: 2.8761e-04 - val_loss: 3.7287\n"
     ]
    }
   ],
   "source": [
    "history = model.fit(x_train, y_train, epochs = 30, batch_size = 40, verbose = 1, validation_data = (x_test, y_test))\n"
   ]
  },
  {
   "cell_type": "markdown",
   "id": "36196ea4",
   "metadata": {
    "papermill": {
     "duration": 0.008917,
     "end_time": "2022-11-24T09:22:25.970533",
     "exception": false,
     "start_time": "2022-11-24T09:22:25.961616",
     "status": "completed"
    },
    "tags": []
   },
   "source": [
    "# Plotting Losses"
   ]
  },
  {
   "cell_type": "code",
   "execution_count": 11,
   "id": "e895f0a0",
   "metadata": {
    "execution": {
     "iopub.execute_input": "2022-11-24T09:22:25.990556Z",
     "iopub.status.busy": "2022-11-24T09:22:25.989649Z",
     "iopub.status.idle": "2022-11-24T09:22:26.202853Z",
     "shell.execute_reply": "2022-11-24T09:22:26.201931Z"
    },
    "papermill": {
     "duration": 0.225382,
     "end_time": "2022-11-24T09:22:26.205043",
     "exception": false,
     "start_time": "2022-11-24T09:22:25.979661",
     "status": "completed"
    },
    "tags": []
   },
   "outputs": [
    {
     "data": {
      "image/png": "[encoded data removed]",
      "text/plain": [
       "<Figure size 432x288 with 1 Axes>"
      ]
     },
     "metadata": {},
     "output_type": "display_data"
    }
   ],
   "source": [
    "plt.plot(history.history['loss'])\n",
    "plt.plot(history.history['val_loss'])\n",
    "plt.title('Model Loss')\n",
    "plt.ylabel('Loss')\n",
    "plt.xlabel('Epoch')\n",
    "plt.legend(['Test', 'Validation'], loc ='upper right')\n",
    "plt.show()"
   ]
  },
  {
   "cell_type": "markdown",
   "id": "67ecf9d8",
   "metadata": {
    "papermill": {
     "duration": 0.009137,
     "end_time": "2022-11-24T09:22:26.223652",
     "exception": false,
     "start_time": "2022-11-24T09:22:26.214515",
     "status": "completed"
    },
    "tags": []
   },
   "source": [
    "# Just Checking the Model "
   ]
  },
  {
   "cell_type": "code",
   "execution_count": 12,
   "id": "435df706",
   "metadata": {
    "execution": {
     "iopub.execute_input": "2022-11-24T09:22:26.244275Z",
     "iopub.status.busy": "2022-11-24T09:22:26.243373Z",
     "iopub.status.idle": "2022-11-24T09:22:26.248318Z",
     "shell.execute_reply": "2022-11-24T09:22:26.247388Z"
    },
    "papermill": {
     "duration": 0.017361,
     "end_time": "2022-11-24T09:22:26.250485",
     "exception": false,
     "start_time": "2022-11-24T09:22:26.233124",
     "status": "completed"
    },
    "tags": []
   },
   "outputs": [],
   "source": [
    "def names(number):\n",
    "\n",
    "    if number==0:\n",
    "        return 'a Tumor'\n",
    "    else:\n",
    "        return 'not a Tumor'"
   ]
  },
  {
   "cell_type": "code",
   "execution_count": 13,
   "id": "4b91d1f5",
   "metadata": {
    "execution": {
     "iopub.execute_input": "2022-11-24T09:22:26.270325Z",
     "iopub.status.busy": "2022-11-24T09:22:26.270041Z",
     "iopub.status.idle": "2022-11-24T09:22:26.637404Z",
     "shell.execute_reply": "2022-11-24T09:22:26.636518Z"
    },
    "papermill": {
     "duration": 0.379743,
     "end_time": "2022-11-24T09:22:26.639601",
     "exception": false,
     "start_time": "2022-11-24T09:22:26.259858",
     "status": "completed"
    },
    "tags": []
   },
   "outputs": [
    {
     "name": "stdout",
     "output_type": "stream",
     "text": [
      "100.0% Confidence This Is a Tumor\n"
     ]
    },
    {
     "data": {
      "image/png": "[encoded data removed]",
      "text/plain": [
       "<Figure size 432x288 with 1 Axes>"
      ]
     },
     "metadata": {},
     "output_type": "display_data"
    }
   ],
   "source": [
    "from matplotlib.pyplot import imshow\n",
    "img = Image.open(r\"/kaggle/input/brain-mri-images-for-brain-tumor-detection/yes/Y109.JPG\")\n",
    "x = np.array(img.resize((128,128)))\n",
    "x = x.reshape(1,128,128,3)\n",
    "res = model.predict_on_batch(x)\n",
    "classification = np.where(res == np.amax(res))[1][0]\n",
    "imshow(img)\n",
    "print(str(res[0][classification]*100) + '% Confidence This Is ' + names(classification))"
   ]
  },
  {
   "cell_type": "code",
   "execution_count": null,
   "id": "82b346ea",
   "metadata": {
    "papermill": {
     "duration": 0.010666,
     "end_time": "2022-11-24T09:22:26.660955",
     "exception": false,
     "start_time": "2022-11-24T09:22:26.650289",
     "status": "completed"
    },
    "tags": []
   },
   "outputs": [],
   "source": []
  }
 ],
 "metadata": {
  "kernelspec": {
   "display_name": "Python 3",
   "language": "python",
   "name": "python3"
  },
  "language_info": {
   "codemirror_mode": {
    "name": "ipython",
    "version": 3
   },
   "file_extension": ".py",
   "mimetype": "text/x-python",
   "name": "python",
   "nbconvert_exporter": "python",
   "pygments_lexer": "ipython3",
   "version": "3.7.12"
  },
  "papermill": {
   "default_parameters": {},
   "duration": 33.377069,
   "end_time": "2022-11-24T09:22:30.511173",
   "environment_variables": {},
   "exception": null,
   "input_path": "__notebook__.ipynb",
   "output_path": "__notebook__.ipynb",
   "parameters": {},
   "start_time": "2022-11-24T09:21:57.134104",
   "version": "2.3.4"
  }
 },
 "nbformat": 4,
 "nbformat_minor": 5
}
