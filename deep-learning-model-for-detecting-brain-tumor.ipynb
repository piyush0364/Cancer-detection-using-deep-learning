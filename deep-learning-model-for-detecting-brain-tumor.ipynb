{
 "cells": [
  {
   "cell_type": "code",
   "execution_count": 1,
   "id": "920d9804",
   "metadata": {
    "execution": {
     "iopub.execute_input": "2022-11-19T23:08:50.961732Z",
     "iopub.status.busy": "2022-11-19T23:08:50.961124Z",
     "iopub.status.idle": "2022-11-19T23:08:56.260614Z",
     "shell.execute_reply": "2022-11-19T23:08:56.259821Z"
    },
    "papermill": {
     "duration": 5.308772,
     "end_time": "2022-11-19T23:08:56.262893",
     "exception": false,
     "start_time": "2022-11-19T23:08:50.954121",
     "status": "completed"
    },
    "tags": []
   },
   "outputs": [],
   "source": [
    "import os\n",
    "import keras\n",
    "from keras.models import Sequential\n",
    "from keras.layers import Conv2D,MaxPooling2D , Flatten ,Dense, Dropout , BatchNormalization\n",
    "from PIL import Image \n",
    "import numpy as np\n",
    "import pandas as pd\n",
    "import matplotlib.pyplot as plt\n",
    "plt.style.use('dark_background')\n",
    "from sklearn.model_selection import train_test_split\n",
    "from sklearn.preprocessing import OneHotEncoder"
   ]
  },
  {
   "cell_type": "markdown",
   "id": "0136cdbc",
   "metadata": {
    "papermill": {
     "duration": 0.004688,
     "end_time": "2022-11-19T23:08:56.272302",
     "exception": false,
     "start_time": "2022-11-19T23:08:56.267614",
     "status": "completed"
    },
    "tags": []
   },
   "source": [
    "#  One Hot Encoding the Target Classes"
   ]
  },
  {
   "cell_type": "code",
   "execution_count": 2,
   "id": "63deb983",
   "metadata": {
    "execution": {
     "iopub.execute_input": "2022-11-19T23:08:56.283327Z",
     "iopub.status.busy": "2022-11-19T23:08:56.282082Z",
     "iopub.status.idle": "2022-11-19T23:08:56.292663Z",
     "shell.execute_reply": "2022-11-19T23:08:56.291902Z"
    },
    "papermill": {
     "duration": 0.018343,
     "end_time": "2022-11-19T23:08:56.295015",
     "exception": false,
     "start_time": "2022-11-19T23:08:56.276672",
     "status": "completed"
    },
    "tags": []
   },
   "outputs": [
    {
     "data": {
      "text/plain": [
       "OneHotEncoder()"
      ]
     },
     "execution_count": 2,
     "metadata": {},
     "output_type": "execute_result"
    }
   ],
   "source": [
    "encoder = OneHotEncoder()\n",
    "encoder.fit([[0], [1]])\n",
    "\n",
    "# 0 - Tumor\n",
    "# 1 - normal"
   ]
  },
  {
   "cell_type": "markdown",
   "id": "01557595",
   "metadata": {
    "papermill": {
     "duration": 0.004186,
     "end_time": "2022-11-19T23:08:56.303624",
     "exception": false,
     "start_time": "2022-11-19T23:08:56.299438",
     "status": "completed"
    },
    "tags": []
   },
   "source": [
    "# Creating 3 Important Lists --\n",
    "1.data list for storing image data in numpy array form \n",
    "\n",
    "2.paths list for storing paths for all images \n",
    "\n",
    "3.result list for storing one hot encoded form of target class whether normal or tumor"
   ]
  },
  {
   "cell_type": "code",
   "execution_count": 3,
   "id": "abdca25d",
   "metadata": {
    "execution": {
     "iopub.execute_input": "2022-11-19T23:08:56.313772Z",
     "iopub.status.busy": "2022-11-19T23:08:56.313042Z",
     "iopub.status.idle": "2022-11-19T23:08:57.196927Z",
     "shell.execute_reply": "2022-11-19T23:08:57.196022Z"
    },
    "papermill": {
     "duration": 0.891218,
     "end_time": "2022-11-19T23:08:57.199035",
     "exception": false,
     "start_time": "2022-11-19T23:08:56.307817",
     "status": "completed"
    },
    "tags": []
   },
   "outputs": [],
   "source": [
    "#This cell updates result list for images with tumor\n",
    "data = []\n",
    "paths = []\n",
    "result = []\n",
    "\n",
    "for r,d,f in os.walk(r'../input/brain-mri-images-for-brain-tumor-detection/yes'):\n",
    "     for file in f:\n",
    "            if '.jpg' in file:\n",
    "                paths.append(os.path.join(r, file))\n",
    "                \n",
    "for path in paths:\n",
    "    img = Image.open(path)\n",
    "    img = img.resize((128,128))\n",
    "    img = np.array(img)\n",
    "    if(img.shape == (128,128,3)):\n",
    "        data.append(np.array(img))\n",
    "        result.append(encoder.transform([[0]]).toarray())\n",
    "    "
   ]
  },
  {
   "cell_type": "code",
   "execution_count": 4,
   "id": "8b5dd45e",
   "metadata": {
    "execution": {
     "iopub.execute_input": "2022-11-19T23:08:57.209616Z",
     "iopub.status.busy": "2022-11-19T23:08:57.208797Z",
     "iopub.status.idle": "2022-11-19T23:08:57.805757Z",
     "shell.execute_reply": "2022-11-19T23:08:57.804983Z"
    },
    "papermill": {
     "duration": 0.604573,
     "end_time": "2022-11-19T23:08:57.808086",
     "exception": false,
     "start_time": "2022-11-19T23:08:57.203513",
     "status": "completed"
    },
    "tags": []
   },
   "outputs": [],
   "source": [
    "#This cell updates result list for images without tumor\n",
    "paths = []\n",
    "for r,d,f in os.walk(r\"../input/brain-mri-images-for-brain-tumor-detection/no\"):\n",
    "    for file in f:\n",
    "        if '.jpg' in file:\n",
    "            paths.append(os.path.join(r,file))\n",
    "            \n",
    "    for path in paths:\n",
    "        img = Image.open(path)\n",
    "        img = img.resize((128,128))\n",
    "        img = np.array(img)\n",
    "        if(img.shape == (128,128,3)):\n",
    "            data.append(np.array(img))\n",
    "            result.append(encoder.transform([[1]]).toarray())"
   ]
  },
  {
   "cell_type": "code",
   "execution_count": 5,
   "id": "f3feb184",
   "metadata": {
    "execution": {
     "iopub.execute_input": "2022-11-19T23:08:57.818189Z",
     "iopub.status.busy": "2022-11-19T23:08:57.817857Z",
     "iopub.status.idle": "2022-11-19T23:08:57.825557Z",
     "shell.execute_reply": "2022-11-19T23:08:57.824819Z"
    },
    "papermill": {
     "duration": 0.014575,
     "end_time": "2022-11-19T23:08:57.827245",
     "exception": false,
     "start_time": "2022-11-19T23:08:57.812670",
     "status": "completed"
    },
    "tags": []
   },
   "outputs": [
    {
     "data": {
      "text/plain": [
       "(139, 128, 128, 3)"
      ]
     },
     "execution_count": 5,
     "metadata": {},
     "output_type": "execute_result"
    }
   ],
   "source": [
    "data = np.array(data)\n",
    "data.shape"
   ]
  },
  {
   "cell_type": "code",
   "execution_count": 6,
   "id": "8254e039",
   "metadata": {
    "execution": {
     "iopub.execute_input": "2022-11-19T23:08:57.837604Z",
     "iopub.status.busy": "2022-11-19T23:08:57.837268Z",
     "iopub.status.idle": "2022-11-19T23:08:57.842155Z",
     "shell.execute_reply": "2022-11-19T23:08:57.841342Z"
    },
    "papermill": {
     "duration": 0.012084,
     "end_time": "2022-11-19T23:08:57.843883",
     "exception": false,
     "start_time": "2022-11-19T23:08:57.831799",
     "status": "completed"
    },
    "tags": []
   },
   "outputs": [],
   "source": [
    "result = np.array(result)\n",
    "result = result.reshape(139,2)"
   ]
  },
  {
   "cell_type": "markdown",
   "id": "2bf1d67f",
   "metadata": {
    "papermill": {
     "duration": 0.004136,
     "end_time": "2022-11-19T23:08:57.852523",
     "exception": false,
     "start_time": "2022-11-19T23:08:57.848387",
     "status": "completed"
    },
    "tags": []
   },
   "source": [
    "#  Splitting the data into Training and Testing"
   ]
  },
  {
   "cell_type": "code",
   "execution_count": 7,
   "id": "21184cba",
   "metadata": {
    "execution": {
     "iopub.execute_input": "2022-11-19T23:08:57.864247Z",
     "iopub.status.busy": "2022-11-19T23:08:57.863364Z",
     "iopub.status.idle": "2022-11-19T23:08:57.870409Z",
     "shell.execute_reply": "2022-11-19T23:08:57.869593Z"
    },
    "papermill": {
     "duration": 0.014229,
     "end_time": "2022-11-19T23:08:57.872144",
     "exception": false,
     "start_time": "2022-11-19T23:08:57.857915",
     "status": "completed"
    },
    "tags": []
   },
   "outputs": [],
   "source": [
    "x_train,x_test,y_train,y_test = train_test_split(data, result, test_size =0.2, shuffle = True, random_state = 0)"
   ]
  },
  {
   "cell_type": "markdown",
   "id": "f623290a",
   "metadata": {
    "papermill": {
     "duration": 0.004125,
     "end_time": "2022-11-19T23:08:57.880797",
     "exception": false,
     "start_time": "2022-11-19T23:08:57.876672",
     "status": "completed"
    },
    "tags": []
   },
   "source": [
    "# Model Building \n",
    "Batch normalization is a technique for training very deep neural networks that standardizes the inputs to a layer for each mini-batch. This has the effect of stabilizing the learning process and dramatically reducing the number of training epoches required to train deep networks."
   ]
  },
  {
   "cell_type": "code",
   "execution_count": 8,
   "id": "1f757ebd",
   "metadata": {
    "execution": {
     "iopub.execute_input": "2022-11-19T23:08:57.890782Z",
     "iopub.status.busy": "2022-11-19T23:08:57.890463Z",
     "iopub.status.idle": "2022-11-19T23:08:58.189070Z",
     "shell.execute_reply": "2022-11-19T23:08:58.188025Z"
    },
    "papermill": {
     "duration": 0.305759,
     "end_time": "2022-11-19T23:08:58.190924",
     "exception": false,
     "start_time": "2022-11-19T23:08:57.885165",
     "status": "completed"
    },
    "tags": []
   },
   "outputs": [
    {
     "name": "stderr",
     "output_type": "stream",
     "text": [
      "2022-11-19 23:08:57.923332: I tensorflow/core/common_runtime/process_util.cc:146] Creating new thread pool with default inter op setting: 2. Tune using inter_op_parallelism_threads for best performance.\n"
     ]
    },
    {
     "name": "stdout",
     "output_type": "stream",
     "text": [
      "Model: \"sequential\"\n",
      "_________________________________________________________________\n",
      "Layer (type)                 Output Shape              Param #   \n",
      "=================================================================\n",
      "conv2d (Conv2D)              (None, 128, 128, 32)      416       \n",
      "_________________________________________________________________\n",
      "conv2d_1 (Conv2D)            (None, 128, 128, 32)      4128      \n",
      "_________________________________________________________________\n",
      "batch_normalization (BatchNo (None, 128, 128, 32)      128       \n",
      "_________________________________________________________________\n",
      "max_pooling2d (MaxPooling2D) (None, 64, 64, 32)        0         \n",
      "_________________________________________________________________\n",
      "dropout (Dropout)            (None, 64, 64, 32)        0         \n",
      "_________________________________________________________________\n",
      "conv2d_2 (Conv2D)            (None, 64, 64, 64)        8256      \n",
      "_________________________________________________________________\n",
      "conv2d_3 (Conv2D)            (None, 64, 64, 64)        16448     \n",
      "_________________________________________________________________\n",
      "batch_normalization_1 (Batch (None, 64, 64, 64)        256       \n",
      "_________________________________________________________________\n",
      "max_pooling2d_1 (MaxPooling2 (None, 32, 32, 64)        0         \n",
      "_________________________________________________________________\n",
      "dropout_1 (Dropout)          (None, 32, 32, 64)        0         \n",
      "_________________________________________________________________\n",
      "flatten (Flatten)            (None, 65536)             0         \n",
      "_________________________________________________________________\n",
      "dense (Dense)                (None, 512)               33554944  \n",
      "_________________________________________________________________\n",
      "dropout_2 (Dropout)          (None, 512)               0         \n",
      "_________________________________________________________________\n",
      "dense_1 (Dense)              (None, 2)                 1026      \n",
      "=================================================================\n",
      "Total params: 33,585,602\n",
      "Trainable params: 33,585,410\n",
      "Non-trainable params: 192\n",
      "_________________________________________________________________\n",
      "None\n"
     ]
    }
   ],
   "source": [
    "model = Sequential()\n",
    "\n",
    "model.add(Conv2D(32, kernel_size=(2,2), input_shape=(128,128,3), padding = 'same'))\n",
    "model.add(Conv2D(32, kernel_size=(2,2), activation ='relu', padding = 'same'))\n",
    "\n",
    "model.add(BatchNormalization())\n",
    "model.add(MaxPooling2D(pool_size=(2,2)))\n",
    "model.add(Dropout(0.25))\n",
    "\n",
    "model.add(Conv2D(64, kernel_size = (2,2), activation = 'relu', padding = 'same'))\n",
    "model.add(Conv2D(64, kernel_size = (2,2), activation = 'relu', padding = 'same'))\n",
    "\n",
    "model.add(BatchNormalization())\n",
    "model.add(MaxPooling2D(pool_size=(2,2), strides = (2,2)))\n",
    "model.add(Dropout(0.25))\n",
    "\n",
    "model.add(Flatten())\n",
    "\n",
    "model.add(Dense(512, activation='relu'))\n",
    "model.add(Dropout(0.5))\n",
    "model.add(Dense(2, activation='softmax'))\n",
    "\n",
    "model.compile(loss = \"categorical_crossentropy\", optimizer='Adamax')\n",
    "print(model.summary())\n"
   ]
  },
  {
   "cell_type": "code",
   "execution_count": 9,
   "id": "6f26450b",
   "metadata": {
    "execution": {
     "iopub.execute_input": "2022-11-19T23:08:58.201450Z",
     "iopub.status.busy": "2022-11-19T23:08:58.200916Z",
     "iopub.status.idle": "2022-11-19T23:08:58.205549Z",
     "shell.execute_reply": "2022-11-19T23:08:58.205006Z"
    },
    "papermill": {
     "duration": 0.011419,
     "end_time": "2022-11-19T23:08:58.207036",
     "exception": false,
     "start_time": "2022-11-19T23:08:58.195617",
     "status": "completed"
    },
    "tags": []
   },
   "outputs": [
    {
     "data": {
      "text/plain": [
       "(111, 2)"
      ]
     },
     "execution_count": 9,
     "metadata": {},
     "output_type": "execute_result"
    }
   ],
   "source": [
    "y_train.shape"
   ]
  },
  {
   "cell_type": "code",
   "execution_count": 10,
   "id": "6e318f6d",
   "metadata": {
    "execution": {
     "iopub.execute_input": "2022-11-19T23:08:58.217671Z",
     "iopub.status.busy": "2022-11-19T23:08:58.217048Z",
     "iopub.status.idle": "2022-11-19T23:10:02.174546Z",
     "shell.execute_reply": "2022-11-19T23:10:02.173725Z"
    },
    "papermill": {
     "duration": 63.964684,
     "end_time": "2022-11-19T23:10:02.176315",
     "exception": false,
     "start_time": "2022-11-19T23:08:58.211631",
     "status": "completed"
    },
    "tags": []
   },
   "outputs": [
    {
     "name": "stdout",
     "output_type": "stream",
     "text": [
      "Epoch 1/30\n"
     ]
    },
    {
     "name": "stderr",
     "output_type": "stream",
     "text": [
      "2022-11-19 23:08:58.275706: I tensorflow/compiler/mlir/mlir_graph_optimization_pass.cc:185] None of the MLIR Optimization Passes are enabled (registered 2)\n"
     ]
    },
    {
     "name": "stdout",
     "output_type": "stream",
     "text": [
      "3/3 [==============================] - 3s 778ms/step - loss: 31.2427 - val_loss: 181.1433\n",
      "Epoch 2/30\n",
      "3/3 [==============================] - 2s 695ms/step - loss: 21.9871 - val_loss: 63.4470\n",
      "Epoch 3/30\n",
      "3/3 [==============================] - 2s 683ms/step - loss: 7.4342 - val_loss: 17.3290\n",
      "Epoch 4/30\n",
      "3/3 [==============================] - 2s 700ms/step - loss: 3.6203 - val_loss: 31.0257\n",
      "Epoch 5/30\n",
      "3/3 [==============================] - 2s 689ms/step - loss: 2.8167 - val_loss: 22.9051\n",
      "Epoch 6/30\n",
      "3/3 [==============================] - 2s 839ms/step - loss: 1.7737 - val_loss: 13.3542\n",
      "Epoch 7/30\n",
      "3/3 [==============================] - 2s 699ms/step - loss: 0.7638 - val_loss: 10.1500\n",
      "Epoch 8/30\n",
      "3/3 [==============================] - 2s 674ms/step - loss: 0.7426 - val_loss: 13.2599\n",
      "Epoch 9/30\n",
      "3/3 [==============================] - 2s 696ms/step - loss: 0.1163 - val_loss: 14.9315\n",
      "Epoch 10/30\n",
      "3/3 [==============================] - 2s 678ms/step - loss: 0.5993 - val_loss: 14.4311\n",
      "Epoch 11/30\n",
      "3/3 [==============================] - 2s 681ms/step - loss: 0.4421 - val_loss: 10.9962\n",
      "Epoch 12/30\n",
      "3/3 [==============================] - 2s 690ms/step - loss: 0.0837 - val_loss: 7.7878\n",
      "Epoch 13/30\n",
      "3/3 [==============================] - 2s 693ms/step - loss: 0.0299 - val_loss: 5.6651\n",
      "Epoch 14/30\n",
      "3/3 [==============================] - 2s 708ms/step - loss: 0.2509 - val_loss: 5.1369\n",
      "Epoch 15/30\n",
      "3/3 [==============================] - 2s 693ms/step - loss: 0.0059 - val_loss: 5.0110\n",
      "Epoch 16/30\n",
      "3/3 [==============================] - 2s 662ms/step - loss: 0.2731 - val_loss: 5.0605\n",
      "Epoch 17/30\n",
      "3/3 [==============================] - 2s 697ms/step - loss: 0.0640 - val_loss: 5.0423\n",
      "Epoch 18/30\n",
      "3/3 [==============================] - 2s 689ms/step - loss: 0.0120 - val_loss: 4.8506\n",
      "Epoch 19/30\n",
      "3/3 [==============================] - 2s 683ms/step - loss: 0.0181 - val_loss: 4.5687\n",
      "Epoch 20/30\n",
      "3/3 [==============================] - 2s 710ms/step - loss: 0.0053 - val_loss: 4.3164\n",
      "Epoch 21/30\n",
      "3/3 [==============================] - 2s 848ms/step - loss: 0.0154 - val_loss: 4.1105\n",
      "Epoch 22/30\n",
      "3/3 [==============================] - 2s 713ms/step - loss: 0.0545 - val_loss: 3.8632\n",
      "Epoch 23/30\n",
      "3/3 [==============================] - 2s 692ms/step - loss: 0.0202 - val_loss: 3.6540\n",
      "Epoch 24/30\n",
      "3/3 [==============================] - 2s 664ms/step - loss: 0.0659 - val_loss: 3.2793\n",
      "Epoch 25/30\n",
      "3/3 [==============================] - 2s 689ms/step - loss: 0.0335 - val_loss: 2.9322\n",
      "Epoch 26/30\n",
      "3/3 [==============================] - 2s 676ms/step - loss: 0.0389 - val_loss: 2.7432\n",
      "Epoch 27/30\n",
      "3/3 [==============================] - 2s 683ms/step - loss: 0.0252 - val_loss: 2.6296\n",
      "Epoch 28/30\n",
      "3/3 [==============================] - 2s 683ms/step - loss: 0.0114 - val_loss: 2.6073\n",
      "Epoch 29/30\n",
      "3/3 [==============================] - 2s 691ms/step - loss: 0.0010 - val_loss: 2.5888\n",
      "Epoch 30/30\n",
      "3/3 [==============================] - 2s 690ms/step - loss: 0.0722 - val_loss: 2.7298\n"
     ]
    }
   ],
   "source": [
    "history = model.fit(x_train, y_train, epochs = 30, batch_size = 40, verbose = 1, validation_data = (x_test, y_test))\n"
   ]
  },
  {
   "cell_type": "code",
   "execution_count": null,
   "id": "881a6516",
   "metadata": {
    "papermill": {
     "duration": 0.011985,
     "end_time": "2022-11-19T23:10:02.200763",
     "exception": false,
     "start_time": "2022-11-19T23:10:02.188778",
     "status": "completed"
    },
    "tags": []
   },
   "outputs": [],
   "source": []
  },
  {
   "cell_type": "markdown",
   "id": "5ee0daab",
   "metadata": {
    "papermill": {
     "duration": 0.011959,
     "end_time": "2022-11-19T23:10:02.224879",
     "exception": false,
     "start_time": "2022-11-19T23:10:02.212920",
     "status": "completed"
    },
    "tags": []
   },
   "source": [
    "# Plotting Losses"
   ]
  },
  {
   "cell_type": "code",
   "execution_count": 11,
   "id": "93d73984",
   "metadata": {
    "execution": {
     "iopub.execute_input": "2022-11-19T23:10:02.251141Z",
     "iopub.status.busy": "2022-11-19T23:10:02.250457Z",
     "iopub.status.idle": "2022-11-19T23:10:02.392048Z",
     "shell.execute_reply": "2022-11-19T23:10:02.391430Z"
    },
    "papermill": {
     "duration": 0.156698,
     "end_time": "2022-11-19T23:10:02.393859",
     "exception": false,
     "start_time": "2022-11-19T23:10:02.237161",
     "status": "completed"
    },
    "tags": []
   },
   "outputs": [
    {
     "data": {
      "image/png": "[encoded data removed]",
      "text/plain": [
       "<Figure size 432x288 with 1 Axes>"
      ]
     },
     "metadata": {},
     "output_type": "display_data"
    }
   ],
   "source": [
    "plt.plot(history.history['loss'])\n",
    "plt.plot(history.history['val_loss'])\n",
    "plt.title('Model Loss')\n",
    "plt.ylabel('Loss')\n",
    "plt.xlabel('Epoch')\n",
    "plt.legend(['Test', 'Validation'], loc ='upper right')\n",
    "plt.show()"
   ]
  },
  {
   "cell_type": "markdown",
   "id": "271abba8",
   "metadata": {
    "papermill": {
     "duration": 0.012261,
     "end_time": "2022-11-19T23:10:02.422492",
     "exception": false,
     "start_time": "2022-11-19T23:10:02.410231",
     "status": "completed"
    },
    "tags": []
   },
   "source": [
    "# Just Checking the Model "
   ]
  },
  {
   "cell_type": "code",
   "execution_count": 12,
   "id": "18e7ecb8",
   "metadata": {
    "execution": {
     "iopub.execute_input": "2022-11-19T23:10:02.448820Z",
     "iopub.status.busy": "2022-11-19T23:10:02.448501Z",
     "iopub.status.idle": "2022-11-19T23:10:02.452732Z",
     "shell.execute_reply": "2022-11-19T23:10:02.451961Z"
    },
    "papermill": {
     "duration": 0.019397,
     "end_time": "2022-11-19T23:10:02.454466",
     "exception": false,
     "start_time": "2022-11-19T23:10:02.435069",
     "status": "completed"
    },
    "tags": []
   },
   "outputs": [],
   "source": [
    "def names(number):\n",
    "\n",
    "    if number==0:\n",
    "        return 'A Tumor'\n",
    "    else:\n",
    "        return 'Not A Tumor'"
   ]
  },
  {
   "cell_type": "code",
   "execution_count": 13,
   "id": "32f50ead",
   "metadata": {
    "execution": {
     "iopub.execute_input": "2022-11-19T23:10:02.481428Z",
     "iopub.status.busy": "2022-11-19T23:10:02.481034Z",
     "iopub.status.idle": "2022-11-19T23:10:02.720849Z",
     "shell.execute_reply": "2022-11-19T23:10:02.719707Z"
    },
    "papermill": {
     "duration": 0.255395,
     "end_time": "2022-11-19T23:10:02.722781",
     "exception": false,
     "start_time": "2022-11-19T23:10:02.467386",
     "status": "completed"
    },
    "tags": []
   },
   "outputs": [
    {
     "name": "stdout",
     "output_type": "stream",
     "text": [
      "100.0% Confidence This Is A Tumor\n"
     ]
    },
    {
     "data": {
      "image/png": "[encoded data removed]",
      "text/plain": [
       "<Figure size 432x288 with 1 Axes>"
      ]
     },
     "metadata": {},
     "output_type": "display_data"
    }
   ],
   "source": [
    "from matplotlib.pyplot import imshow\n",
    "img = Image.open(r\"../input/brain-mri-images-for-brain-tumor-detection/no/20 no.jpg\")\n",
    "x = np.array(img.resize((128,128)))\n",
    "x = x.reshape(1,128,128,3)\n",
    "res = model.predict_on_batch(x)\n",
    "classification = np.where(res == np.amax(res))[1][0]\n",
    "imshow(img)\n",
    "print(str(res[0][classification]*100) + '% Confidence This Is ' + names(classification))"
   ]
  },
  {
   "cell_type": "code",
   "execution_count": null,
   "id": "b6553732",
   "metadata": {
    "papermill": {
     "duration": 0.014674,
     "end_time": "2022-11-19T23:10:02.755123",
     "exception": false,
     "start_time": "2022-11-19T23:10:02.740449",
     "status": "completed"
    },
    "tags": []
   },
   "outputs": [],
   "source": []
  }
 ],
 "metadata": {
  "kernelspec": {
   "display_name": "Python 3",
   "language": "python",
   "name": "python3"
  },
  "language_info": {
   "codemirror_mode": {
    "name": "ipython",
    "version": 3
   },
   "file_extension": ".py",
   "mimetype": "text/x-python",
   "name": "python",
   "nbconvert_exporter": "python",
   "pygments_lexer": "ipython3",
   "version": "3.7.12"
  },
  "papermill": {
   "default_parameters": {},
   "duration": 81.911257,
   "end_time": "2022-11-19T23:10:06.310034",
   "environment_variables": {},
   "exception": null,
   "input_path": "__notebook__.ipynb",
   "output_path": "__notebook__.ipynb",
   "parameters": {},
   "start_time": "2022-11-19T23:08:44.398777",
   "version": "2.3.4"
  }
 },
 "nbformat": 4,
 "nbformat_minor": 5
}
