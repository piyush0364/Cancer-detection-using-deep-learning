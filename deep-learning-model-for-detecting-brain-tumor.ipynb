{
 "cells": [
  {
   "cell_type": "code",
   "execution_count": 1,
   "id": "7ba1c544",
   "metadata": {
    "execution": {
     "iopub.execute_input": "2022-11-24T09:03:19.437515Z",
     "iopub.status.busy": "2022-11-24T09:03:19.436903Z",
     "iopub.status.idle": "2022-11-24T09:03:27.910288Z",
     "shell.execute_reply": "2022-11-24T09:03:27.909267Z"
    },
    "papermill": {
     "duration": 8.482553,
     "end_time": "2022-11-24T09:03:27.912597",
     "exception": false,
     "start_time": "2022-11-24T09:03:19.430044",
     "status": "completed"
    },
    "tags": []
   },
   "outputs": [],
   "source": [
    "import os\n",
    "import keras\n",
    "from keras.models import Sequential\n",
    "from keras.layers import Conv2D,MaxPooling2D , Flatten ,Dense, Dropout , BatchNormalization\n",
    "from PIL import Image \n",
    "import numpy as np\n",
    "import pandas as pd\n",
    "import matplotlib.pyplot as plt\n",
    "plt.style.use('dark_background')\n",
    "from sklearn.model_selection import train_test_split\n",
    "from sklearn.preprocessing import OneHotEncoder"
   ]
  },
  {
   "cell_type": "markdown",
   "id": "108c5000",
   "metadata": {
    "papermill": {
     "duration": 0.004838,
     "end_time": "2022-11-24T09:03:27.922005",
     "exception": false,
     "start_time": "2022-11-24T09:03:27.917167",
     "status": "completed"
    },
    "tags": []
   },
   "source": [
    "#  One Hot Encoding the Target Classes"
   ]
  },
  {
   "cell_type": "code",
   "execution_count": 2,
   "id": "775a6ee3",
   "metadata": {
    "execution": {
     "iopub.execute_input": "2022-11-24T09:03:27.933818Z",
     "iopub.status.busy": "2022-11-24T09:03:27.932987Z",
     "iopub.status.idle": "2022-11-24T09:03:27.945017Z",
     "shell.execute_reply": "2022-11-24T09:03:27.944093Z"
    },
    "papermill": {
     "duration": 0.020055,
     "end_time": "2022-11-24T09:03:27.947057",
     "exception": false,
     "start_time": "2022-11-24T09:03:27.927002",
     "status": "completed"
    },
    "tags": []
   },
   "outputs": [
    {
     "data": {
      "text/plain": [
       "OneHotEncoder()"
      ]
     },
     "execution_count": 2,
     "metadata": {},
     "output_type": "execute_result"
    }
   ],
   "source": [
    "encoder = OneHotEncoder()\n",
    "encoder.fit([[0], [1]])\n",
    "\n",
    "# 0 - Tumor\n",
    "# 1 - normal"
   ]
  },
  {
   "cell_type": "markdown",
   "id": "bd655910",
   "metadata": {
    "papermill": {
     "duration": 0.005409,
     "end_time": "2022-11-24T09:03:27.957222",
     "exception": false,
     "start_time": "2022-11-24T09:03:27.951813",
     "status": "completed"
    },
    "tags": []
   },
   "source": [
    "# Creating 3 Important Lists --\n",
    "1.data list for storing image data in numpy array form \n",
    "\n",
    "2.paths list for storing paths for all images \n",
    "\n",
    "3.result list for storing one hot encoded form of target class whether normal or tumor"
   ]
  },
  {
   "cell_type": "code",
   "execution_count": 3,
   "id": "b5432a9b",
   "metadata": {
    "execution": {
     "iopub.execute_input": "2022-11-24T09:03:27.970551Z",
     "iopub.status.busy": "2022-11-24T09:03:27.969829Z",
     "iopub.status.idle": "2022-11-24T09:03:29.232989Z",
     "shell.execute_reply": "2022-11-24T09:03:29.231632Z"
    },
    "papermill": {
     "duration": 1.273116,
     "end_time": "2022-11-24T09:03:29.235606",
     "exception": false,
     "start_time": "2022-11-24T09:03:27.962490",
     "status": "completed"
    },
    "tags": []
   },
   "outputs": [],
   "source": [
    "#This cell updates result list for images with tumor\n",
    "data = []\n",
    "paths = []\n",
    "result = []\n",
    "\n",
    "for r,d,f in os.walk(r'../input/brain-mri-images-for-brain-tumor-detection/yes'):\n",
    "     for file in f:\n",
    "            if '.jpg' in file:\n",
    "                paths.append(os.path.join(r, file))\n",
    "                \n",
    "for path in paths:\n",
    "    img = Image.open(path)\n",
    "    img = img.resize((128,128))\n",
    "    img = np.array(img)\n",
    "    if(img.shape == (128,128,3)):\n",
    "        data.append(np.array(img))\n",
    "        result.append(encoder.transform([[0]]).toarray())\n",
    "    "
   ]
  },
  {
   "cell_type": "code",
   "execution_count": 4,
   "id": "7ea402eb",
   "metadata": {
    "execution": {
     "iopub.execute_input": "2022-11-24T09:03:29.247238Z",
     "iopub.status.busy": "2022-11-24T09:03:29.246229Z",
     "iopub.status.idle": "2022-11-24T09:03:30.305313Z",
     "shell.execute_reply": "2022-11-24T09:03:30.303929Z"
    },
    "papermill": {
     "duration": 1.067629,
     "end_time": "2022-11-24T09:03:30.307967",
     "exception": false,
     "start_time": "2022-11-24T09:03:29.240338",
     "status": "completed"
    },
    "tags": []
   },
   "outputs": [],
   "source": [
    "#This cell updates result list for images without tumor\n",
    "paths = []\n",
    "for r,d,f in os.walk(r\"../input/brain-mri-images-for-brain-tumor-detection/no\"):\n",
    "    for file in f:\n",
    "        if '.jpg' in file:\n",
    "            paths.append(os.path.join(r,file))\n",
    "            \n",
    "    for path in paths:\n",
    "        img = Image.open(path)\n",
    "        img = img.resize((128,128))\n",
    "        img = np.array(img)\n",
    "        if(img.shape == (128,128,3)):\n",
    "            data.append(np.array(img))\n",
    "            result.append(encoder.transform([[1]]).toarray())"
   ]
  },
  {
   "cell_type": "code",
   "execution_count": 5,
   "id": "ba297a98",
   "metadata": {
    "execution": {
     "iopub.execute_input": "2022-11-24T09:03:30.318472Z",
     "iopub.status.busy": "2022-11-24T09:03:30.318124Z",
     "iopub.status.idle": "2022-11-24T09:03:30.330009Z",
     "shell.execute_reply": "2022-11-24T09:03:30.328852Z"
    },
    "papermill": {
     "duration": 0.019464,
     "end_time": "2022-11-24T09:03:30.332142",
     "exception": false,
     "start_time": "2022-11-24T09:03:30.312678",
     "status": "completed"
    },
    "tags": []
   },
   "outputs": [
    {
     "data": {
      "text/plain": [
       "(139, 128, 128, 3)"
      ]
     },
     "execution_count": 5,
     "metadata": {},
     "output_type": "execute_result"
    }
   ],
   "source": [
    "data = np.array(data)\n",
    "data.shape"
   ]
  },
  {
   "cell_type": "code",
   "execution_count": 6,
   "id": "970b2512",
   "metadata": {
    "execution": {
     "iopub.execute_input": "2022-11-24T09:03:30.342959Z",
     "iopub.status.busy": "2022-11-24T09:03:30.342300Z",
     "iopub.status.idle": "2022-11-24T09:03:30.348513Z",
     "shell.execute_reply": "2022-11-24T09:03:30.347267Z"
    },
    "papermill": {
     "duration": 0.013249,
     "end_time": "2022-11-24T09:03:30.350038",
     "exception": false,
     "start_time": "2022-11-24T09:03:30.336789",
     "status": "completed"
    },
    "tags": []
   },
   "outputs": [],
   "source": [
    "result = np.array(result)\n",
    "result = result.reshape(139,2)"
   ]
  },
  {
   "cell_type": "markdown",
   "id": "13e86867",
   "metadata": {
    "papermill": {
     "duration": 0.004838,
     "end_time": "2022-11-24T09:03:30.359210",
     "exception": false,
     "start_time": "2022-11-24T09:03:30.354372",
     "status": "completed"
    },
    "tags": []
   },
   "source": [
    "#  Splitting the data into Training and Testing"
   ]
  },
  {
   "cell_type": "code",
   "execution_count": 7,
   "id": "0f31fb25",
   "metadata": {
    "execution": {
     "iopub.execute_input": "2022-11-24T09:03:30.370921Z",
     "iopub.status.busy": "2022-11-24T09:03:30.370615Z",
     "iopub.status.idle": "2022-11-24T09:03:30.378144Z",
     "shell.execute_reply": "2022-11-24T09:03:30.377268Z"
    },
    "papermill": {
     "duration": 0.015026,
     "end_time": "2022-11-24T09:03:30.379958",
     "exception": false,
     "start_time": "2022-11-24T09:03:30.364932",
     "status": "completed"
    },
    "tags": []
   },
   "outputs": [],
   "source": [
    "x_train,x_test,y_train,y_test = train_test_split(data, result, test_size =0.2, shuffle = True, random_state = 0)"
   ]
  },
  {
   "cell_type": "markdown",
   "id": "da9c1980",
   "metadata": {
    "papermill": {
     "duration": 0.004077,
     "end_time": "2022-11-24T09:03:30.388469",
     "exception": false,
     "start_time": "2022-11-24T09:03:30.384392",
     "status": "completed"
    },
    "tags": []
   },
   "source": [
    "# Model Building \n",
    "Batch normalization is a technique for training very deep neural networks that standardizes the inputs to a layer for each mini-batch. This has the effect of stabilizing the learning process and dramatically reducing the number of training epoches required to train deep networks."
   ]
  },
  {
   "cell_type": "code",
   "execution_count": 8,
   "id": "23a771be",
   "metadata": {
    "execution": {
     "iopub.execute_input": "2022-11-24T09:03:30.398409Z",
     "iopub.status.busy": "2022-11-24T09:03:30.398125Z",
     "iopub.status.idle": "2022-11-24T09:03:30.768813Z",
     "shell.execute_reply": "2022-11-24T09:03:30.767258Z"
    },
    "papermill": {
     "duration": 0.379326,
     "end_time": "2022-11-24T09:03:30.772077",
     "exception": false,
     "start_time": "2022-11-24T09:03:30.392751",
     "status": "completed"
    },
    "tags": []
   },
   "outputs": [
    {
     "name": "stderr",
     "output_type": "stream",
     "text": [
      "2022-11-24 09:03:30.438842: I tensorflow/core/common_runtime/process_util.cc:146] Creating new thread pool with default inter op setting: 2. Tune using inter_op_parallelism_threads for best performance.\n"
     ]
    },
    {
     "name": "stdout",
     "output_type": "stream",
     "text": [
      "Model: \"sequential\"\n",
      "_________________________________________________________________\n",
      "Layer (type)                 Output Shape              Param #   \n",
      "=================================================================\n",
      "conv2d (Conv2D)              (None, 128, 128, 32)      416       \n",
      "_________________________________________________________________\n",
      "conv2d_1 (Conv2D)            (None, 128, 128, 32)      4128      \n",
      "_________________________________________________________________\n",
      "batch_normalization (BatchNo (None, 128, 128, 32)      128       \n",
      "_________________________________________________________________\n",
      "max_pooling2d (MaxPooling2D) (None, 64, 64, 32)        0         \n",
      "_________________________________________________________________\n",
      "dropout (Dropout)            (None, 64, 64, 32)        0         \n",
      "_________________________________________________________________\n",
      "conv2d_2 (Conv2D)            (None, 64, 64, 64)        8256      \n",
      "_________________________________________________________________\n",
      "conv2d_3 (Conv2D)            (None, 64, 64, 64)        16448     \n",
      "_________________________________________________________________\n",
      "batch_normalization_1 (Batch (None, 64, 64, 64)        256       \n",
      "_________________________________________________________________\n",
      "max_pooling2d_1 (MaxPooling2 (None, 32, 32, 64)        0         \n",
      "_________________________________________________________________\n",
      "dropout_1 (Dropout)          (None, 32, 32, 64)        0         \n",
      "_________________________________________________________________\n",
      "flatten (Flatten)            (None, 65536)             0         \n",
      "_________________________________________________________________\n",
      "dense (Dense)                (None, 512)               33554944  \n",
      "_________________________________________________________________\n",
      "dropout_2 (Dropout)          (None, 512)               0         \n",
      "_________________________________________________________________\n",
      "dense_1 (Dense)              (None, 2)                 1026      \n",
      "=================================================================\n",
      "Total params: 33,585,602\n",
      "Trainable params: 33,585,410\n",
      "Non-trainable params: 192\n",
      "_________________________________________________________________\n",
      "None\n"
     ]
    }
   ],
   "source": [
    "model = Sequential()\n",
    "\n",
    "model.add(Conv2D(32, kernel_size=(2,2), input_shape=(128,128,3), padding = 'same'))\n",
    "model.add(Conv2D(32, kernel_size=(2,2), activation ='relu', padding = 'same'))\n",
    "\n",
    "model.add(BatchNormalization())\n",
    "model.add(MaxPooling2D(pool_size=(2,2)))\n",
    "model.add(Dropout(0.25))\n",
    "\n",
    "model.add(Conv2D(64, kernel_size = (2,2), activation = 'relu', padding = 'same'))\n",
    "model.add(Conv2D(64, kernel_size = (2,2), activation = 'relu', padding = 'same'))\n",
    "\n",
    "model.add(BatchNormalization())\n",
    "model.add(MaxPooling2D(pool_size=(2,2), strides = (2,2)))\n",
    "model.add(Dropout(0.25))\n",
    "\n",
    "model.add(Flatten())\n",
    "\n",
    "model.add(Dense(512, activation='relu'))\n",
    "model.add(Dropout(0.5))\n",
    "model.add(Dense(2, activation='softmax'))\n",
    "\n",
    "model.compile(loss = \"categorical_crossentropy\", optimizer='Adamax')\n",
    "print(model.summary())\n"
   ]
  },
  {
   "cell_type": "code",
   "execution_count": 9,
   "id": "1e128b12",
   "metadata": {
    "execution": {
     "iopub.execute_input": "2022-11-24T09:03:30.785917Z",
     "iopub.status.busy": "2022-11-24T09:03:30.784538Z",
     "iopub.status.idle": "2022-11-24T09:03:30.790659Z",
     "shell.execute_reply": "2022-11-24T09:03:30.789648Z"
    },
    "papermill": {
     "duration": 0.014895,
     "end_time": "2022-11-24T09:03:30.792844",
     "exception": false,
     "start_time": "2022-11-24T09:03:30.777949",
     "status": "completed"
    },
    "tags": []
   },
   "outputs": [
    {
     "data": {
      "text/plain": [
       "(111, 2)"
      ]
     },
     "execution_count": 9,
     "metadata": {},
     "output_type": "execute_result"
    }
   ],
   "source": [
    "y_train.shape"
   ]
  },
  {
   "cell_type": "code",
   "execution_count": 10,
   "id": "4619e56c",
   "metadata": {
    "execution": {
     "iopub.execute_input": "2022-11-24T09:03:30.804332Z",
     "iopub.status.busy": "2022-11-24T09:03:30.804009Z",
     "iopub.status.idle": "2022-11-24T09:04:45.104487Z",
     "shell.execute_reply": "2022-11-24T09:04:45.102960Z"
    },
    "papermill": {
     "duration": 74.30945,
     "end_time": "2022-11-24T09:04:45.107137",
     "exception": false,
     "start_time": "2022-11-24T09:03:30.797687",
     "status": "completed"
    },
    "tags": []
   },
   "outputs": [
    {
     "name": "stdout",
     "output_type": "stream",
     "text": [
      "Epoch 1/30\n"
     ]
    },
    {
     "name": "stderr",
     "output_type": "stream",
     "text": [
      "2022-11-24 09:03:30.890386: I tensorflow/compiler/mlir/mlir_graph_optimization_pass.cc:185] None of the MLIR Optimization Passes are enabled (registered 2)\n"
     ]
    },
    {
     "name": "stdout",
     "output_type": "stream",
     "text": [
      "3/3 [==============================] - 4s 926ms/step - loss: 27.2609 - val_loss: 57.0165\n",
      "Epoch 2/30\n",
      "3/3 [==============================] - 2s 780ms/step - loss: 10.6657 - val_loss: 20.1919\n",
      "Epoch 3/30\n",
      "3/3 [==============================] - 2s 795ms/step - loss: 4.8809 - val_loss: 17.8709\n",
      "Epoch 4/30\n",
      "3/3 [==============================] - 2s 809ms/step - loss: 4.2419 - val_loss: 23.1895\n",
      "Epoch 5/30\n",
      "3/3 [==============================] - 2s 806ms/step - loss: 1.9974 - val_loss: 7.8813\n",
      "Epoch 6/30\n",
      "3/3 [==============================] - 2s 815ms/step - loss: 0.8075 - val_loss: 7.3535\n",
      "Epoch 7/30\n",
      "3/3 [==============================] - 2s 788ms/step - loss: 0.4904 - val_loss: 5.7655\n",
      "Epoch 8/30\n",
      "3/3 [==============================] - 2s 787ms/step - loss: 0.5310 - val_loss: 5.6071\n",
      "Epoch 9/30\n",
      "3/3 [==============================] - 2s 788ms/step - loss: 0.1615 - val_loss: 5.8416\n",
      "Epoch 10/30\n",
      "3/3 [==============================] - 2s 780ms/step - loss: 0.1376 - val_loss: 7.2366\n",
      "Epoch 11/30\n",
      "3/3 [==============================] - 2s 824ms/step - loss: 0.1004 - val_loss: 5.3864\n",
      "Epoch 12/30\n",
      "3/3 [==============================] - 3s 783ms/step - loss: 0.1115 - val_loss: 4.0553\n",
      "Epoch 13/30\n",
      "3/3 [==============================] - 2s 834ms/step - loss: 0.0917 - val_loss: 3.0251\n",
      "Epoch 14/30\n",
      "3/3 [==============================] - 2s 760ms/step - loss: 0.2056 - val_loss: 2.7812\n",
      "Epoch 15/30\n",
      "3/3 [==============================] - 2s 793ms/step - loss: 0.5824 - val_loss: 2.6507\n",
      "Epoch 16/30\n",
      "3/3 [==============================] - 2s 788ms/step - loss: 0.2355 - val_loss: 2.8252\n",
      "Epoch 17/30\n",
      "3/3 [==============================] - 2s 779ms/step - loss: 0.2485 - val_loss: 2.6130\n",
      "Epoch 18/30\n",
      "3/3 [==============================] - 2s 792ms/step - loss: 4.2421e-07 - val_loss: 2.3877\n",
      "Epoch 19/30\n",
      "3/3 [==============================] - 2s 796ms/step - loss: 1.2189e-04 - val_loss: 2.2119\n",
      "Epoch 20/30\n",
      "3/3 [==============================] - 2s 786ms/step - loss: 0.0781 - val_loss: 2.0149\n",
      "Epoch 21/30\n",
      "3/3 [==============================] - 2s 782ms/step - loss: 0.0058 - val_loss: 1.7996\n",
      "Epoch 22/30\n",
      "3/3 [==============================] - 2s 791ms/step - loss: 0.0666 - val_loss: 1.8303\n",
      "Epoch 23/30\n",
      "3/3 [==============================] - 3s 837ms/step - loss: 3.9736e-08 - val_loss: 1.9155\n",
      "Epoch 24/30\n",
      "3/3 [==============================] - 2s 838ms/step - loss: 0.0284 - val_loss: 1.9790\n",
      "Epoch 25/30\n",
      "3/3 [==============================] - 3s 838ms/step - loss: 1.2940e-06 - val_loss: 2.0207\n",
      "Epoch 26/30\n",
      "3/3 [==============================] - 2s 820ms/step - loss: 0.0567 - val_loss: 1.8905\n",
      "Epoch 27/30\n",
      "3/3 [==============================] - 2s 788ms/step - loss: 0.1594 - val_loss: 1.5144\n",
      "Epoch 28/30\n",
      "3/3 [==============================] - 2s 807ms/step - loss: 1.9229e-04 - val_loss: 1.3946\n",
      "Epoch 29/30\n",
      "3/3 [==============================] - 2s 811ms/step - loss: 1.6066e-06 - val_loss: 1.4521\n",
      "Epoch 30/30\n",
      "3/3 [==============================] - 2s 819ms/step - loss: 0.0019 - val_loss: 1.5375\n"
     ]
    }
   ],
   "source": [
    "history = model.fit(x_train, y_train, epochs = 30, batch_size = 40, verbose = 1, validation_data = (x_test, y_test))\n"
   ]
  },
  {
   "cell_type": "code",
   "execution_count": null,
   "id": "89e95242",
   "metadata": {
    "papermill": {
     "duration": 0.012098,
     "end_time": "2022-11-24T09:04:45.132478",
     "exception": false,
     "start_time": "2022-11-24T09:04:45.120380",
     "status": "completed"
    },
    "tags": []
   },
   "outputs": [],
   "source": []
  },
  {
   "cell_type": "markdown",
   "id": "251bf740",
   "metadata": {
    "papermill": {
     "duration": 0.012151,
     "end_time": "2022-11-24T09:04:45.157080",
     "exception": false,
     "start_time": "2022-11-24T09:04:45.144929",
     "status": "completed"
    },
    "tags": []
   },
   "source": [
    "# Plotting Losses"
   ]
  },
  {
   "cell_type": "code",
   "execution_count": 11,
   "id": "2383e6bd",
   "metadata": {
    "execution": {
     "iopub.execute_input": "2022-11-24T09:04:45.183805Z",
     "iopub.status.busy": "2022-11-24T09:04:45.183467Z",
     "iopub.status.idle": "2022-11-24T09:04:45.370021Z",
     "shell.execute_reply": "2022-11-24T09:04:45.369376Z"
    },
    "papermill": {
     "duration": 0.202568,
     "end_time": "2022-11-24T09:04:45.371855",
     "exception": false,
     "start_time": "2022-11-24T09:04:45.169287",
     "status": "completed"
    },
    "tags": []
   },
   "outputs": [
    {
     "data": {
      "image/png": "[encoded data removed]",
      "text/plain": [
       "<Figure size 432x288 with 1 Axes>"
      ]
     },
     "metadata": {},
     "output_type": "display_data"
    }
   ],
   "source": [
    "plt.plot(history.history['loss'])\n",
    "plt.plot(history.history['val_loss'])\n",
    "plt.title('Model Loss')\n",
    "plt.ylabel('Loss')\n",
    "plt.xlabel('Epoch')\n",
    "plt.legend(['Test', 'Validation'], loc ='upper right')\n",
    "plt.show()"
   ]
  },
  {
   "cell_type": "markdown",
   "id": "416e32b7",
   "metadata": {
    "papermill": {
     "duration": 0.012481,
     "end_time": "2022-11-24T09:04:45.397025",
     "exception": false,
     "start_time": "2022-11-24T09:04:45.384544",
     "status": "completed"
    },
    "tags": []
   },
   "source": [
    "# Just Checking the Model "
   ]
  },
  {
   "cell_type": "code",
   "execution_count": 12,
   "id": "5644e2d8",
   "metadata": {
    "execution": {
     "iopub.execute_input": "2022-11-24T09:04:45.425043Z",
     "iopub.status.busy": "2022-11-24T09:04:45.424483Z",
     "iopub.status.idle": "2022-11-24T09:04:45.429185Z",
     "shell.execute_reply": "2022-11-24T09:04:45.428121Z"
    },
    "papermill": {
     "duration": 0.021072,
     "end_time": "2022-11-24T09:04:45.431354",
     "exception": false,
     "start_time": "2022-11-24T09:04:45.410282",
     "status": "completed"
    },
    "tags": []
   },
   "outputs": [],
   "source": [
    "def names(number):\n",
    "\n",
    "    if number==0:\n",
    "        return 'A Tumor'\n",
    "    else:\n",
    "        return 'Not A Tumor'"
   ]
  },
  {
   "cell_type": "code",
   "execution_count": 13,
   "id": "a4557835",
   "metadata": {
    "execution": {
     "iopub.execute_input": "2022-11-24T09:04:45.459037Z",
     "iopub.status.busy": "2022-11-24T09:04:45.458463Z",
     "iopub.status.idle": "2022-11-24T09:04:45.776808Z",
     "shell.execute_reply": "2022-11-24T09:04:45.775673Z"
    },
    "papermill": {
     "duration": 0.334488,
     "end_time": "2022-11-24T09:04:45.778755",
     "exception": false,
     "start_time": "2022-11-24T09:04:45.444267",
     "status": "completed"
    },
    "tags": []
   },
   "outputs": [
    {
     "name": "stdout",
     "output_type": "stream",
     "text": [
      "100.0% Confidence This Is Not A Tumor\n"
     ]
    },
    {
     "data": {
      "image/png": "[encoded data removed]",
      "text/plain": [
       "<Figure size 432x288 with 1 Axes>"
      ]
     },
     "metadata": {},
     "output_type": "display_data"
    }
   ],
   "source": [
    "from matplotlib.pyplot import imshow\n",
    "img = Image.open(r\"/kaggle/input/brain-mri-images-for-brain-tumor-detection/yes/Y109.JPG\")\n",
    "x = np.array(img.resize((128,128)))\n",
    "x = x.reshape(1,128,128,3)\n",
    "res = model.predict_on_batch(x)\n",
    "classification = np.where(res == np.amax(res))[1][0]\n",
    "imshow(img)\n",
    "print(str(res[0][classification]*100) + '% Confidence This Is ' + names(classification))"
   ]
  },
  {
   "cell_type": "code",
   "execution_count": null,
   "id": "dd2eef59",
   "metadata": {
    "papermill": {
     "duration": 0.012905,
     "end_time": "2022-11-24T09:04:45.804883",
     "exception": false,
     "start_time": "2022-11-24T09:04:45.791978",
     "status": "completed"
    },
    "tags": []
   },
   "outputs": [],
   "source": []
  }
 ],
 "metadata": {
  "kernelspec": {
   "display_name": "Python 3",
   "language": "python",
   "name": "python3"
  },
  "language_info": {
   "codemirror_mode": {
    "name": "ipython",
    "version": 3
   },
   "file_extension": ".py",
   "mimetype": "text/x-python",
   "name": "python",
   "nbconvert_exporter": "python",
   "pygments_lexer": "ipython3",
   "version": "3.7.12"
  },
  "papermill": {
   "default_parameters": {},
   "duration": 97.083199,
   "end_time": "2022-11-24T09:04:48.965401",
   "environment_variables": {},
   "exception": null,
   "input_path": "__notebook__.ipynb",
   "output_path": "__notebook__.ipynb",
   "parameters": {},
   "start_time": "2022-11-24T09:03:11.882202",
   "version": "2.3.4"
  }
 },
 "nbformat": 4,
 "nbformat_minor": 5
}
